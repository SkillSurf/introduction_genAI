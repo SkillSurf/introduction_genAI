{
  "cells": [
    {
      "cell_type": "markdown",
      "metadata": {
        "id": "cztJ0Ko14GSa"
      },
      "source": [
        "# Finetuning SDXL Dreambooth using AutoTrain\n",
        "Introduction to Generative AI Workshop\n",
        "\n",
        "© SkillSurf 2024"
      ]
    },
    {
      "cell_type": "code",
      "execution_count": 1,
      "metadata": {
        "cellView": "form",
        "collapsed": true,
        "id": "JvMRbVLEJlZT"
      },
      "outputs": [],
      "source": [
        "#@title How to run this notebook\n",
        "#@markdown This notebook was created using the reference published by HuggingFace.\n",
        "#@markdown - **Step 1** - Upload images to a folder named `images/`\n",
        "#@markdown - **Step 2** - Choose a project name (optional)\n",
        "#@markdown - **Step 3** - Update the prompt with a unique identifier (Choose a word that doesn't appear in dictionaries)\n",
        "#@markdown - **Step 4** - Run all cells in order \\\\\n",
        "\n",
        "#@markdown For original notebook/code visit:https://github.com/huggingface/autotrain-advanced"
      ]
    },
    {
      "cell_type": "markdown",
      "metadata": {
        "id": "FX5Pi7cI5v_z"
      },
      "source": [
        "## Installing AutoTrain"
      ]
    },
    {
      "cell_type": "code",
      "execution_count": null,
      "metadata": {
        "id": "7XD-JgWr5vUw"
      },
      "outputs": [],
      "source": [
        "# Install AutoTrain using pip\n",
        "import os\n",
        "!pip install -U autotrain-advanced"
      ]
    },
    {
      "cell_type": "markdown",
      "metadata": {
        "id": "7Vxde3Z2525r"
      },
      "source": [
        "## Setting up a training session"
      ]
    },
    {
      "cell_type": "code",
      "execution_count": 3,
      "metadata": {
        "cellView": "form",
        "id": "A2-_lkBS1WKA"
      },
      "outputs": [],
      "source": [
        "#@markdown ---\n",
        "#@markdown #### Project Config\n",
        "project_name = 'skillsurfGenAI' # @param {type:\"string\"}\n",
        "model_name = 'stabilityai/stable-diffusion-xl-base-1.0' # @param [\"stabilityai/stable-diffusion-xl-base-1.0\", \"runwayml/stable-diffusion-v1-5\", \"stabilityai/stable-diffusion-2-1\", \"stabilityai/stable-diffusion-2-1-base\"]\n",
        "prompt = 'cartoon of a sks shark' # @param {type: \"string\"}\n",
        "\n",
        "#@markdown ---\n",
        "#@markdown #### Hyperparameters\n",
        "learning_rate = 1e-4 # @param {type:\"number\"}\n",
        "num_steps = 500 #@param {type:\"number\"}\n",
        "batch_size = 1 # @param {type:\"slider\", min:1, max:32, step:1}\n",
        "gradient_accumulation = 4 # @param {type:\"slider\", min:1, max:32, step:1}\n",
        "resolution = 1024 # @param {type:\"slider\", min:128, max:1024, step:128}\n",
        "use_8bit_adam = False # @param [\"False\", \"True\"] {type:\"raw\"}\n",
        "use_xformers = False # @param [\"False\", \"True\"] {type:\"raw\"}\n",
        "mixed_precision = \"fp16\" # @param [\"fp16\", \"bf16\", \"none\"] {type:\"raw\"}\n",
        "train_text_encoder = False # @param [\"False\", \"True\"] {type:\"raw\"}\n",
        "disable_gradient_checkpointing = False # @param [\"False\", \"True\"] {type:\"raw\"}\n",
        "\n",
        "os.environ[\"PROJECT_NAME\"] = project_name\n",
        "os.environ[\"MODEL_NAME\"] = model_name\n",
        "os.environ[\"PROMPT\"] = prompt\n",
        "os.environ[\"LEARNING_RATE\"] = str(learning_rate)\n",
        "os.environ[\"NUM_STEPS\"] = str(num_steps)\n",
        "os.environ[\"BATCH_SIZE\"] = str(batch_size)\n",
        "os.environ[\"GRADIENT_ACCUMULATION\"] = str(gradient_accumulation)\n",
        "os.environ[\"RESOLUTION\"] = str(resolution)\n",
        "os.environ[\"USE_8BIT_ADAM\"] = str(use_8bit_adam)\n",
        "os.environ[\"USE_XFORMERS\"] = str(use_xformers)\n",
        "os.environ[\"MIXED_PRECISION\"] = str(mixed_precision)\n",
        "os.environ[\"TRAIN_TEXT_ENCODER\"] = str(train_text_encoder)\n",
        "os.environ[\"DISABLE_GRADIENT_CHECKPOINTING\"] = str(disable_gradient_checkpointing)"
      ]
    },
    {
      "cell_type": "code",
      "execution_count": 7,
      "metadata": {
        "id": "34xLifo6gzKo"
      },
      "outputs": [],
      "source": [
        "# Run this cell to avoid errors\n",
        "!rmdir /content/images/.ipynb_checkpoints"
      ]
    },
    {
      "cell_type": "code",
      "execution_count": 8,
      "metadata": {
        "colab": {
          "base_uri": "https://localhost:8080/"
        },
        "collapsed": true,
        "id": "g3cd_ED_yXXt",
        "outputId": "2357742e-f181-4d49-e6b1-dbdb4c7352f7"
      },
      "outputs": [
        {
          "name": "stdout",
          "output_type": "stream",
          "text": [
            "\u001b[1mINFO    \u001b[0m | \u001b[32m2024-06-03 05:12:42\u001b[0m | \u001b[36mautotrain.cli.run_dreambooth\u001b[0m:\u001b[36mrun\u001b[0m:\u001b[36m388\u001b[0m - \u001b[1mRunning DreamBooth Training\u001b[0m\n",
            "\u001b[33m\u001b[1mWARNING \u001b[0m | \u001b[32m2024-06-03 05:12:42\u001b[0m | \u001b[36mautotrain.trainers.common\u001b[0m:\u001b[36m__init__\u001b[0m:\u001b[36m180\u001b[0m - \u001b[33m\u001b[1mParameters supplied but not used: func, version, train, log, inference, train_split, config, data_path, backend, deploy, valid_split\u001b[0m\n",
            "\u001b[1mINFO    \u001b[0m | \u001b[32m2024-06-03 05:12:42\u001b[0m | \u001b[36mautotrain.preprocessor.dreambooth\u001b[0m:\u001b[36m_save_concept_images\u001b[0m:\u001b[36m67\u001b[0m - \u001b[1mSaving concept images\u001b[0m\n",
            "\u001b[1mINFO    \u001b[0m | \u001b[32m2024-06-03 05:12:42\u001b[0m | \u001b[36mautotrain.preprocessor.dreambooth\u001b[0m:\u001b[36m_save_concept_images\u001b[0m:\u001b[36m68\u001b[0m - \u001b[1mimages/1.jpg\u001b[0m\n",
            "\u001b[1mINFO    \u001b[0m | \u001b[32m2024-06-03 05:12:42\u001b[0m | \u001b[36mautotrain.preprocessor.dreambooth\u001b[0m:\u001b[36m_save_concept_images\u001b[0m:\u001b[36m67\u001b[0m - \u001b[1mSaving concept images\u001b[0m\n",
            "\u001b[1mINFO    \u001b[0m | \u001b[32m2024-06-03 05:12:42\u001b[0m | \u001b[36mautotrain.preprocessor.dreambooth\u001b[0m:\u001b[36m_save_concept_images\u001b[0m:\u001b[36m68\u001b[0m - \u001b[1mimages/2.jpg\u001b[0m\n",
            "\u001b[1mINFO    \u001b[0m | \u001b[32m2024-06-03 05:12:42\u001b[0m | \u001b[36mautotrain.preprocessor.dreambooth\u001b[0m:\u001b[36m_save_concept_images\u001b[0m:\u001b[36m67\u001b[0m - \u001b[1mSaving concept images\u001b[0m\n",
            "\u001b[1mINFO    \u001b[0m | \u001b[32m2024-06-03 05:12:42\u001b[0m | \u001b[36mautotrain.preprocessor.dreambooth\u001b[0m:\u001b[36m_save_concept_images\u001b[0m:\u001b[36m68\u001b[0m - \u001b[1mimages/5.jpg\u001b[0m\n",
            "\u001b[1mINFO    \u001b[0m | \u001b[32m2024-06-03 05:12:42\u001b[0m | \u001b[36mautotrain.preprocessor.dreambooth\u001b[0m:\u001b[36m_save_concept_images\u001b[0m:\u001b[36m67\u001b[0m - \u001b[1mSaving concept images\u001b[0m\n",
            "\u001b[1mINFO    \u001b[0m | \u001b[32m2024-06-03 05:12:42\u001b[0m | \u001b[36mautotrain.preprocessor.dreambooth\u001b[0m:\u001b[36m_save_concept_images\u001b[0m:\u001b[36m68\u001b[0m - \u001b[1mimages/4.jpg\u001b[0m\n",
            "\u001b[1mINFO    \u001b[0m | \u001b[32m2024-06-03 05:12:42\u001b[0m | \u001b[36mautotrain.preprocessor.dreambooth\u001b[0m:\u001b[36m_save_concept_images\u001b[0m:\u001b[36m67\u001b[0m - \u001b[1mSaving concept images\u001b[0m\n",
            "\u001b[1mINFO    \u001b[0m | \u001b[32m2024-06-03 05:12:42\u001b[0m | \u001b[36mautotrain.preprocessor.dreambooth\u001b[0m:\u001b[36m_save_concept_images\u001b[0m:\u001b[36m68\u001b[0m - \u001b[1mimages/3.jpg\u001b[0m\n",
            "\u001b[1mINFO    \u001b[0m | \u001b[32m2024-06-03 05:12:42\u001b[0m | \u001b[36mautotrain.backends.local\u001b[0m:\u001b[36mcreate\u001b[0m:\u001b[36m8\u001b[0m - \u001b[1mStarting local training...\u001b[0m\n",
            "\u001b[1mINFO    \u001b[0m | \u001b[32m2024-06-03 05:12:42\u001b[0m | \u001b[36mautotrain.commands\u001b[0m:\u001b[36mlaunch_command\u001b[0m:\u001b[36m386\u001b[0m - \u001b[1m['python', '-m', 'autotrain.trainers.dreambooth', '--training_config', 'skillsurfGenAI/training_params.json']\u001b[0m\n",
            "\u001b[1mINFO    \u001b[0m | \u001b[32m2024-06-03 05:12:42\u001b[0m | \u001b[36mautotrain.commands\u001b[0m:\u001b[36mlaunch_command\u001b[0m:\u001b[36m387\u001b[0m - \u001b[1m{'model': 'stabilityai/stable-diffusion-xl-base-1.0', 'vae_model': None, 'revision': None, 'tokenizer': None, 'image_path': 'skillsurfGenAI/autotrain-data', 'class_image_path': None, 'prompt': 'photo of a sks shark', 'class_prompt': None, 'num_class_images': 100, 'class_labels_conditioning': None, 'prior_preservation': False, 'prior_loss_weight': 1.0, 'project_name': 'skillsurfGenAI', 'seed': 42, 'resolution': 1024, 'center_crop': False, 'train_text_encoder': False, 'batch_size': 1, 'sample_batch_size': 4, 'epochs': 1, 'num_steps': 500, 'checkpointing_steps': 100000, 'resume_from_checkpoint': None, 'gradient_accumulation': 4, 'disable_gradient_checkpointing': False, 'lr': 0.0001, 'scale_lr': False, 'scheduler': 'constant', 'warmup_steps': 0, 'num_cycles': 1, 'lr_power': 1.0, 'dataloader_num_workers': 0, 'use_8bit_adam': False, 'adam_beta1': 0.9, 'adam_beta2': 0.999, 'adam_weight_decay': 0.01, 'adam_epsilon': 1e-08, 'max_grad_norm': 1.0, 'allow_tf32': False, 'prior_generation_precision': None, 'local_rank': -1, 'xformers': False, 'pre_compute_text_embeddings': False, 'tokenizer_max_length': None, 'text_encoder_use_attention_mask': False, 'rank': 4, 'xl': True, 'mixed_precision': 'fp16', 'token': None, 'push_to_hub': False, 'username': 'abc', 'validation_prompt': None, 'num_validation_images': 4, 'validation_epochs': 50, 'checkpoints_total_limit': None, 'validation_images': None, 'logging': False}\u001b[0m\n",
            "\u001b[33m\u001b[1mWARNING \u001b[0m | \u001b[32m2024-06-03 05:12:47\u001b[0m | \u001b[36m__main__\u001b[0m:\u001b[36mtrain\u001b[0m:\u001b[36m39\u001b[0m - \u001b[33m\u001b[1mFailed to download dataset: 401 Client Error. (Request ID: Root=1-665d50cf-6d2ba5f618e239776f3880b5;8812977b-7d9a-40fc-94b0-70d9369a1659)\n",
            "\n",
            "Repository Not Found for url: https://huggingface.co/api/datasets/skillsurfGenAI/autotrain-data/revision/main.\n",
            "Please make sure you specified the correct `repo_id` and `repo_type`.\n",
            "If you are trying to access a private or gated repo, make sure you are authenticated.\n",
            "Invalid username or password.\u001b[0m\n",
            "tokenizer/tokenizer_config.json: 100% 737/737 [00:00<00:00, 5.30MB/s]\n",
            "tokenizer/vocab.json: 100% 1.06M/1.06M [00:00<00:00, 35.0MB/s]\n",
            "tokenizer/merges.txt: 100% 525k/525k [00:00<00:00, 10.9MB/s]\n",
            "tokenizer/special_tokens_map.json: 100% 472/472 [00:00<00:00, 4.19MB/s]\n",
            "tokenizer_2/tokenizer_config.json: 100% 725/725 [00:00<00:00, 4.81MB/s]\n",
            "tokenizer_2/special_tokens_map.json: 100% 460/460 [00:00<00:00, 3.23MB/s]\n",
            "/usr/local/lib/python3.10/dist-packages/huggingface_hub/file_download.py:1132: FutureWarning: `resume_download` is deprecated and will be removed in version 1.0.0. Downloads always resume when possible. If you want to force a new download, use `force_download=True`.\n",
            "  warnings.warn(\n",
            "text_encoder/config.json: 100% 565/565 [00:00<00:00, 4.31MB/s]\n",
            "You are using a model of type clip_text_model to instantiate a model of type . This is not supported for all configurations of models and can yield errors.\n",
            "text_encoder_2/config.json: 100% 575/575 [00:00<00:00, 4.33MB/s]\n",
            "You are using a model of type clip_text_model to instantiate a model of type . This is not supported for all configurations of models and can yield errors.\n",
            "model_index.json: 100% 609/609 [00:00<00:00, 5.33MB/s]\n",
            "scheduler/scheduler_config.json: 100% 479/479 [00:00<00:00, 3.88MB/s]\n",
            "{'variance_type', 'dynamic_thresholding_ratio', 'rescale_betas_zero_snr', 'thresholding', 'clip_sample_range'} was not found in config. Values will be initialized to default values.\n",
            "model.safetensors: 100% 492M/492M [00:02<00:00, 198MB/s]\n",
            "model.safetensors: 100% 2.78G/2.78G [00:11<00:00, 234MB/s]\n",
            "vae/config.json: 100% 642/642 [00:00<00:00, 5.14MB/s]\n",
            "diffusion_pytorch_model.safetensors: 100% 335M/335M [00:01<00:00, 245MB/s]\n",
            "{'latents_mean', 'latents_std'} was not found in config. Values will be initialized to default values.\n",
            "unet/config.json: 100% 1.68k/1.68k [00:00<00:00, 12.9MB/s]\n",
            "diffusion_pytorch_model.safetensors: 100% 10.3G/10.3G [01:09<00:00, 149MB/s]\n",
            "{'reverse_transformer_layers_per_block', 'attention_type', 'dropout'} was not found in config. Values will be initialized to default values.\n",
            "\u001b[1mINFO    \u001b[0m | \u001b[32m2024-06-03 05:15:17\u001b[0m | \u001b[36mautotrain.trainers.dreambooth.train_xl\u001b[0m:\u001b[36mmain\u001b[0m:\u001b[36m931\u001b[0m - \u001b[1m***** Running training *****\u001b[0m\n",
            "\u001b[1mINFO    \u001b[0m | \u001b[32m2024-06-03 05:15:17\u001b[0m | \u001b[36mautotrain.trainers.dreambooth.train_xl\u001b[0m:\u001b[36mmain\u001b[0m:\u001b[36m932\u001b[0m - \u001b[1m  Num examples = 5\u001b[0m\n",
            "\u001b[1mINFO    \u001b[0m | \u001b[32m2024-06-03 05:15:17\u001b[0m | \u001b[36mautotrain.trainers.dreambooth.train_xl\u001b[0m:\u001b[36mmain\u001b[0m:\u001b[36m933\u001b[0m - \u001b[1m  Num batches each epoch = 5\u001b[0m\n",
            "\u001b[1mINFO    \u001b[0m | \u001b[32m2024-06-03 05:15:17\u001b[0m | \u001b[36mautotrain.trainers.dreambooth.train_xl\u001b[0m:\u001b[36mmain\u001b[0m:\u001b[36m934\u001b[0m - \u001b[1m  Num Epochs = 250\u001b[0m\n",
            "\u001b[1mINFO    \u001b[0m | \u001b[32m2024-06-03 05:15:17\u001b[0m | \u001b[36mautotrain.trainers.dreambooth.train_xl\u001b[0m:\u001b[36mmain\u001b[0m:\u001b[36m935\u001b[0m - \u001b[1m  Instantaneous batch size per device = 1\u001b[0m\n",
            "\u001b[1mINFO    \u001b[0m | \u001b[32m2024-06-03 05:15:17\u001b[0m | \u001b[36mautotrain.trainers.dreambooth.train_xl\u001b[0m:\u001b[36mmain\u001b[0m:\u001b[36m936\u001b[0m - \u001b[1m  Total train batch size (w. parallel, distributed & accumulation) = 4\u001b[0m\n",
            "\u001b[1mINFO    \u001b[0m | \u001b[32m2024-06-03 05:15:17\u001b[0m | \u001b[36mautotrain.trainers.dreambooth.train_xl\u001b[0m:\u001b[36mmain\u001b[0m:\u001b[36m937\u001b[0m - \u001b[1m  Gradient Accumulation steps = 4\u001b[0m\n",
            "\u001b[1mINFO    \u001b[0m | \u001b[32m2024-06-03 05:15:17\u001b[0m | \u001b[36mautotrain.trainers.dreambooth.train_xl\u001b[0m:\u001b[36mmain\u001b[0m:\u001b[36m938\u001b[0m - \u001b[1m  Total optimization steps = 500\u001b[0m\n",
            "Steps: 100% 500/500 [59:05<00:00,  6.40s/it, loss=0.104, lr=0.0001]Model weights saved in skillsurfGenAI/pytorch_lora_weights.safetensors\n",
            "Steps: 100% 500/500 [59:05<00:00,  7.09s/it, loss=0.104, lr=0.0001]\n",
            "\u001b[1mINFO    \u001b[0m | \u001b[32m2024-06-03 06:14:23\u001b[0m | \u001b[36m__main__\u001b[0m:\u001b[36mtrain\u001b[0m:\u001b[36m201\u001b[0m - \u001b[1mConverting model to Kohya format...\u001b[0m\n",
            "\u001b[1mINFO    \u001b[0m | \u001b[32m2024-06-03 06:14:26\u001b[0m | \u001b[36mautotrain.cli.run_dreambooth\u001b[0m:\u001b[36mrun\u001b[0m:\u001b[36m393\u001b[0m - \u001b[1mJob ID: 3458\u001b[0m\n"
          ]
        }
      ],
      "source": [
        "# Run the AutoTrain CLI command using parameteres given above\n",
        "!autotrain dreambooth \\\n",
        "--model ${MODEL_NAME} \\\n",
        "--project-name ${PROJECT_NAME} \\\n",
        "--image-path images/ \\\n",
        "--prompt \"${PROMPT}\" \\\n",
        "--resolution ${RESOLUTION} \\\n",
        "--batch-size ${BATCH_SIZE} \\\n",
        "--num-steps ${NUM_STEPS} \\\n",
        "--gradient-accumulation ${GRADIENT_ACCUMULATION} \\\n",
        "--lr ${LEARNING_RATE} \\\n",
        "--mixed-precision ${MIXED_PRECISION} \\\n",
        "$( [[ \"$USE_XFORMERS\" == \"True\" ]] && echo \"--xformers\" ) \\\n",
        "$( [[ \"$TRAIN_TEXT_ENCODER\" == \"True\" ]] && echo \"--train-text-encoder\" ) \\\n",
        "$( [[ \"$USE_8BIT_ADAM\" == \"True\" ]] && echo \"--use-8bit-adam\" ) \\\n",
        "$( [[ \"$DISABLE_GRADIENT_CHECKPOINTING\" == \"True\" ]] && echo \"--disable_gradient-checkpointing\" ) \\"
      ]
    },
    {
      "cell_type": "markdown",
      "metadata": {
        "id": "9_JuQXWq6RmF"
      },
      "source": [
        "## Save model weights to Google Drive"
      ]
    },
    {
      "cell_type": "code",
      "execution_count": null,
      "metadata": {
        "colab": {
          "base_uri": "https://localhost:8080/"
        },
        "collapsed": true,
        "id": "ZCkhJ_bItpy7",
        "outputId": "5d7ae88f-7ced-4eae-b2ac-e0a9745add10"
      },
      "outputs": [],
      "source": [
        "# Mount Google Drive onto Colab Folder\n",
        "from google.colab import drive\n",
        "drive.mount('/content/drive')"
      ]
    },
    {
      "cell_type": "code",
      "execution_count": 3,
      "metadata": {
        "id": "msx7E6b3vbrg"
      },
      "outputs": [],
      "source": [
        "# Copy session folder into a folder in the drive\n",
        "!cp -r /content/skillsurfGenAI /content/drive/MyDrive/Dreambooth"
      ]
    },
    {
      "cell_type": "markdown",
      "metadata": {
        "id": "MQP4gjtN6h7V"
      },
      "source": [
        "# Generating images\n",
        "\n",
        "Now that we have trained a large model, our resources have been occupied. We should free the occupied RAM and GPU RAM before generating images. To do that, restart the runtime session and proceed with the cells below."
      ]
    },
    {
      "cell_type": "markdown",
      "metadata": {
        "id": "VlJWknUh6mMg"
      },
      "source": [
        "### Importing modules and building the Stable Diffusion pipeline"
      ]
    },
    {
      "cell_type": "code",
      "execution_count": null,
      "metadata": {
        "colab": {
          "base_uri": "https://localhost:8080/",
          "height": 212,
          "referenced_widgets": [
            "55692ef2fee44dce815efde31a9e17e0",
            "057781f86a414b9aa25a495d128b1915",
            "94cb09d7b232496cb03781f44bda6a01",
            "26f18fa2c16a410dbd94f63491dabb9c",
            "fa2e16af05b8458aa9ac6eeb8e0a8428",
            "51327a50813b4b9db7667522a44e8859",
            "72401b1479214326bf3ffc8ac817ad00",
            "5074cacad85d4e13bb9005a53e0a3eca",
            "acf3733e330d4f368a60545b8f41ff41",
            "f3c9a5a76f6643c9a4a387bcb231e463",
            "a24d884a8f6444feb775f3df84d6518b"
          ]
        },
        "id": "_LvIS7-7PcLT",
        "outputId": "0f100809-9b40-4486-bf7f-362c2584f248"
      },
      "outputs": [],
      "source": [
        "from diffusers import DiffusionPipeline\n",
        "import torch\n",
        "\n",
        "prj_path = \"/content/skillsurfGenAI\"\n",
        "model = \"stabilityai/stable-diffusion-xl-base-1.0\"\n",
        "pipe = DiffusionPipeline.from_pretrained(\n",
        "    model,\n",
        "    torch_dtype=torch.float16,\n",
        ")\n",
        "pipe.to(\"cuda\")\n",
        "pipe.load_lora_weights(prj_path, weight_name=\"pytorch_lora_weights.safetensors\")"
      ]
    },
    {
      "cell_type": "markdown",
      "metadata": {
        "id": "E1cDfyXl6sFE"
      },
      "source": [
        "### Generating images for your own prompt"
      ]
    },
    {
      "cell_type": "code",
      "execution_count": null,
      "metadata": {
        "colab": {
          "base_uri": "https://localhost:8080/",
          "height": 49,
          "referenced_widgets": [
            "72942d6949394c25ae229d35e92581c1",
            "3c4cb6a425b3476fb399441f54cb2b6b",
            "dd79ace4df0f46159de1c28154183f1c",
            "c68596f277d742479345f2141be2e331",
            "7886f8136e6b480082528b755e8c7884",
            "ec878c2ef2e444a2a69cbb3972e12c60",
            "6b9338c7090949dd8dd777d023f093d2",
            "1dd237e18d184326a98f3c254c248601",
            "ffc37064a7194f258a1cae549cedb23d",
            "d7343aed98994036aea01d91676092a3",
            "6988c4d7030244fc9315b96b9bba851d"
          ]
        },
        "id": "RQTYnGgy2_xr",
        "outputId": "ebe3e535-4bc3-454d-be3c-e46915313137"
      },
      "outputs": [],
      "source": [
        "prompt = \"\"\"cartoon of a sks shark as a Jedi holding a lightsaber, Star Wars, hyper detailed background, character concept, full body, dynamic pose, intricate,\n",
        "            highly detailed, digital painting, artstation, concept art, smooth, sharp focus, illustration, square thumbnail, 4k, uhd,\n",
        "            art by artgerm and greg rutkowski and alphonse mucha\"\"\"\n",
        "\n",
        "seed = 42\n",
        "generator = torch.Generator(\"cuda\").manual_seed(seed)\n",
        "image = pipe(prompt=prompt, generator=generator).images[0]\n",
        "image.save(f\"4.png\")"
      ]
    },
    {
      "cell_type": "markdown",
      "metadata": {
        "id": "46059VC17zix"
      },
      "source": [
        "## (Optional) - Refining the generated images\n"
      ]
    },
    {
      "cell_type": "code",
      "execution_count": null,
      "metadata": {
        "id": "4L4wN3Sy744g"
      },
      "outputs": [],
      "source": [
        "# Import refiner from Stable Diffusion\n",
        "from diffusers import StableDiffusionXLImg2ImgPipeline\n",
        "\n",
        "# Initialize refiner\n",
        "refiner = StableDiffusionXLImg2ImgPipeline.from_pretrained(\n",
        "    \"stabilityai/stable-diffusion-xl-refiner-1.0\",\n",
        "    torch_dtype=torch.float16,\n",
        ")\n",
        "refiner.to(\"cuda\")\n",
        "\n",
        "# Create new prompt\n",
        "prompt = \"cartoon of a sks shark riding a formula one race car, comic art, anime style, 4k, uhd\"\n",
        "\n",
        "# Generate image\n",
        "seed = 42\n",
        "generator = torch.Generator(\"cuda\").manual_seed(seed)\n",
        "image = pipe(prompt=prompt, generator=generator).images[0]\n",
        "\n",
        "# Refine the image\n",
        "image = refiner(prompt=prompt, generator=generator, image=image).images[0]\n",
        "\n",
        "image.save(f\"3.png\")"
      ]
    }
  ],
  "metadata": {
    "accelerator": "GPU",
    "colab": {
      "gpuType": "T4",
      "provenance": []
    },
    "kernelspec": {
      "display_name": "Python 3",
      "name": "python3"
    },
    "language_info": {
      "codemirror_mode": {
        "name": "ipython",
        "version": 3
      },
      "file_extension": ".py",
      "mimetype": "text/x-python",
      "name": "python",
      "nbconvert_exporter": "python",
      "pygments_lexer": "ipython3",
      "version": "3.8.15"
    },
    "widgets": {
      "application/vnd.jupyter.widget-state+json": {
        "057781f86a414b9aa25a495d128b1915": {
          "model_module": "@jupyter-widgets/controls",
          "model_module_version": "1.5.0",
          "model_name": "HTMLModel",
          "state": {
            "_dom_classes": [],
            "_model_module": "@jupyter-widgets/controls",
            "_model_module_version": "1.5.0",
            "_model_name": "HTMLModel",
            "_view_count": null,
            "_view_module": "@jupyter-widgets/controls",
            "_view_module_version": "1.5.0",
            "_view_name": "HTMLView",
            "description": "",
            "description_tooltip": null,
            "layout": "IPY_MODEL_51327a50813b4b9db7667522a44e8859",
            "placeholder": "​",
            "style": "IPY_MODEL_72401b1479214326bf3ffc8ac817ad00",
            "value": "Loading pipeline components...: 100%"
          }
        },
        "1dd237e18d184326a98f3c254c248601": {
          "model_module": "@jupyter-widgets/base",
          "model_module_version": "1.2.0",
          "model_name": "LayoutModel",
          "state": {
            "_model_module": "@jupyter-widgets/base",
            "_model_module_version": "1.2.0",
            "_model_name": "LayoutModel",
            "_view_count": null,
            "_view_module": "@jupyter-widgets/base",
            "_view_module_version": "1.2.0",
            "_view_name": "LayoutView",
            "align_content": null,
            "align_items": null,
            "align_self": null,
            "border": null,
            "bottom": null,
            "display": null,
            "flex": null,
            "flex_flow": null,
            "grid_area": null,
            "grid_auto_columns": null,
            "grid_auto_flow": null,
            "grid_auto_rows": null,
            "grid_column": null,
            "grid_gap": null,
            "grid_row": null,
            "grid_template_areas": null,
            "grid_template_columns": null,
            "grid_template_rows": null,
            "height": null,
            "justify_content": null,
            "justify_items": null,
            "left": null,
            "margin": null,
            "max_height": null,
            "max_width": null,
            "min_height": null,
            "min_width": null,
            "object_fit": null,
            "object_position": null,
            "order": null,
            "overflow": null,
            "overflow_x": null,
            "overflow_y": null,
            "padding": null,
            "right": null,
            "top": null,
            "visibility": null,
            "width": null
          }
        },
        "26f18fa2c16a410dbd94f63491dabb9c": {
          "model_module": "@jupyter-widgets/controls",
          "model_module_version": "1.5.0",
          "model_name": "HTMLModel",
          "state": {
            "_dom_classes": [],
            "_model_module": "@jupyter-widgets/controls",
            "_model_module_version": "1.5.0",
            "_model_name": "HTMLModel",
            "_view_count": null,
            "_view_module": "@jupyter-widgets/controls",
            "_view_module_version": "1.5.0",
            "_view_name": "HTMLView",
            "description": "",
            "description_tooltip": null,
            "layout": "IPY_MODEL_f3c9a5a76f6643c9a4a387bcb231e463",
            "placeholder": "​",
            "style": "IPY_MODEL_a24d884a8f6444feb775f3df84d6518b",
            "value": " 7/7 [01:04&lt;00:00, 10.46s/it]"
          }
        },
        "3c4cb6a425b3476fb399441f54cb2b6b": {
          "model_module": "@jupyter-widgets/controls",
          "model_module_version": "1.5.0",
          "model_name": "HTMLModel",
          "state": {
            "_dom_classes": [],
            "_model_module": "@jupyter-widgets/controls",
            "_model_module_version": "1.5.0",
            "_model_name": "HTMLModel",
            "_view_count": null,
            "_view_module": "@jupyter-widgets/controls",
            "_view_module_version": "1.5.0",
            "_view_name": "HTMLView",
            "description": "",
            "description_tooltip": null,
            "layout": "IPY_MODEL_ec878c2ef2e444a2a69cbb3972e12c60",
            "placeholder": "​",
            "style": "IPY_MODEL_6b9338c7090949dd8dd777d023f093d2",
            "value": "100%"
          }
        },
        "5074cacad85d4e13bb9005a53e0a3eca": {
          "model_module": "@jupyter-widgets/base",
          "model_module_version": "1.2.0",
          "model_name": "LayoutModel",
          "state": {
            "_model_module": "@jupyter-widgets/base",
            "_model_module_version": "1.2.0",
            "_model_name": "LayoutModel",
            "_view_count": null,
            "_view_module": "@jupyter-widgets/base",
            "_view_module_version": "1.2.0",
            "_view_name": "LayoutView",
            "align_content": null,
            "align_items": null,
            "align_self": null,
            "border": null,
            "bottom": null,
            "display": null,
            "flex": null,
            "flex_flow": null,
            "grid_area": null,
            "grid_auto_columns": null,
            "grid_auto_flow": null,
            "grid_auto_rows": null,
            "grid_column": null,
            "grid_gap": null,
            "grid_row": null,
            "grid_template_areas": null,
            "grid_template_columns": null,
            "grid_template_rows": null,
            "height": null,
            "justify_content": null,
            "justify_items": null,
            "left": null,
            "margin": null,
            "max_height": null,
            "max_width": null,
            "min_height": null,
            "min_width": null,
            "object_fit": null,
            "object_position": null,
            "order": null,
            "overflow": null,
            "overflow_x": null,
            "overflow_y": null,
            "padding": null,
            "right": null,
            "top": null,
            "visibility": null,
            "width": null
          }
        },
        "51327a50813b4b9db7667522a44e8859": {
          "model_module": "@jupyter-widgets/base",
          "model_module_version": "1.2.0",
          "model_name": "LayoutModel",
          "state": {
            "_model_module": "@jupyter-widgets/base",
            "_model_module_version": "1.2.0",
            "_model_name": "LayoutModel",
            "_view_count": null,
            "_view_module": "@jupyter-widgets/base",
            "_view_module_version": "1.2.0",
            "_view_name": "LayoutView",
            "align_content": null,
            "align_items": null,
            "align_self": null,
            "border": null,
            "bottom": null,
            "display": null,
            "flex": null,
            "flex_flow": null,
            "grid_area": null,
            "grid_auto_columns": null,
            "grid_auto_flow": null,
            "grid_auto_rows": null,
            "grid_column": null,
            "grid_gap": null,
            "grid_row": null,
            "grid_template_areas": null,
            "grid_template_columns": null,
            "grid_template_rows": null,
            "height": null,
            "justify_content": null,
            "justify_items": null,
            "left": null,
            "margin": null,
            "max_height": null,
            "max_width": null,
            "min_height": null,
            "min_width": null,
            "object_fit": null,
            "object_position": null,
            "order": null,
            "overflow": null,
            "overflow_x": null,
            "overflow_y": null,
            "padding": null,
            "right": null,
            "top": null,
            "visibility": null,
            "width": null
          }
        },
        "55692ef2fee44dce815efde31a9e17e0": {
          "model_module": "@jupyter-widgets/controls",
          "model_module_version": "1.5.0",
          "model_name": "HBoxModel",
          "state": {
            "_dom_classes": [],
            "_model_module": "@jupyter-widgets/controls",
            "_model_module_version": "1.5.0",
            "_model_name": "HBoxModel",
            "_view_count": null,
            "_view_module": "@jupyter-widgets/controls",
            "_view_module_version": "1.5.0",
            "_view_name": "HBoxView",
            "box_style": "",
            "children": [
              "IPY_MODEL_057781f86a414b9aa25a495d128b1915",
              "IPY_MODEL_94cb09d7b232496cb03781f44bda6a01",
              "IPY_MODEL_26f18fa2c16a410dbd94f63491dabb9c"
            ],
            "layout": "IPY_MODEL_fa2e16af05b8458aa9ac6eeb8e0a8428"
          }
        },
        "6988c4d7030244fc9315b96b9bba851d": {
          "model_module": "@jupyter-widgets/controls",
          "model_module_version": "1.5.0",
          "model_name": "DescriptionStyleModel",
          "state": {
            "_model_module": "@jupyter-widgets/controls",
            "_model_module_version": "1.5.0",
            "_model_name": "DescriptionStyleModel",
            "_view_count": null,
            "_view_module": "@jupyter-widgets/base",
            "_view_module_version": "1.2.0",
            "_view_name": "StyleView",
            "description_width": ""
          }
        },
        "6b9338c7090949dd8dd777d023f093d2": {
          "model_module": "@jupyter-widgets/controls",
          "model_module_version": "1.5.0",
          "model_name": "DescriptionStyleModel",
          "state": {
            "_model_module": "@jupyter-widgets/controls",
            "_model_module_version": "1.5.0",
            "_model_name": "DescriptionStyleModel",
            "_view_count": null,
            "_view_module": "@jupyter-widgets/base",
            "_view_module_version": "1.2.0",
            "_view_name": "StyleView",
            "description_width": ""
          }
        },
        "72401b1479214326bf3ffc8ac817ad00": {
          "model_module": "@jupyter-widgets/controls",
          "model_module_version": "1.5.0",
          "model_name": "DescriptionStyleModel",
          "state": {
            "_model_module": "@jupyter-widgets/controls",
            "_model_module_version": "1.5.0",
            "_model_name": "DescriptionStyleModel",
            "_view_count": null,
            "_view_module": "@jupyter-widgets/base",
            "_view_module_version": "1.2.0",
            "_view_name": "StyleView",
            "description_width": ""
          }
        },
        "72942d6949394c25ae229d35e92581c1": {
          "model_module": "@jupyter-widgets/controls",
          "model_module_version": "1.5.0",
          "model_name": "HBoxModel",
          "state": {
            "_dom_classes": [],
            "_model_module": "@jupyter-widgets/controls",
            "_model_module_version": "1.5.0",
            "_model_name": "HBoxModel",
            "_view_count": null,
            "_view_module": "@jupyter-widgets/controls",
            "_view_module_version": "1.5.0",
            "_view_name": "HBoxView",
            "box_style": "",
            "children": [
              "IPY_MODEL_3c4cb6a425b3476fb399441f54cb2b6b",
              "IPY_MODEL_dd79ace4df0f46159de1c28154183f1c",
              "IPY_MODEL_c68596f277d742479345f2141be2e331"
            ],
            "layout": "IPY_MODEL_7886f8136e6b480082528b755e8c7884"
          }
        },
        "7886f8136e6b480082528b755e8c7884": {
          "model_module": "@jupyter-widgets/base",
          "model_module_version": "1.2.0",
          "model_name": "LayoutModel",
          "state": {
            "_model_module": "@jupyter-widgets/base",
            "_model_module_version": "1.2.0",
            "_model_name": "LayoutModel",
            "_view_count": null,
            "_view_module": "@jupyter-widgets/base",
            "_view_module_version": "1.2.0",
            "_view_name": "LayoutView",
            "align_content": null,
            "align_items": null,
            "align_self": null,
            "border": null,
            "bottom": null,
            "display": null,
            "flex": null,
            "flex_flow": null,
            "grid_area": null,
            "grid_auto_columns": null,
            "grid_auto_flow": null,
            "grid_auto_rows": null,
            "grid_column": null,
            "grid_gap": null,
            "grid_row": null,
            "grid_template_areas": null,
            "grid_template_columns": null,
            "grid_template_rows": null,
            "height": null,
            "justify_content": null,
            "justify_items": null,
            "left": null,
            "margin": null,
            "max_height": null,
            "max_width": null,
            "min_height": null,
            "min_width": null,
            "object_fit": null,
            "object_position": null,
            "order": null,
            "overflow": null,
            "overflow_x": null,
            "overflow_y": null,
            "padding": null,
            "right": null,
            "top": null,
            "visibility": null,
            "width": null
          }
        },
        "94cb09d7b232496cb03781f44bda6a01": {
          "model_module": "@jupyter-widgets/controls",
          "model_module_version": "1.5.0",
          "model_name": "FloatProgressModel",
          "state": {
            "_dom_classes": [],
            "_model_module": "@jupyter-widgets/controls",
            "_model_module_version": "1.5.0",
            "_model_name": "FloatProgressModel",
            "_view_count": null,
            "_view_module": "@jupyter-widgets/controls",
            "_view_module_version": "1.5.0",
            "_view_name": "ProgressView",
            "bar_style": "success",
            "description": "",
            "description_tooltip": null,
            "layout": "IPY_MODEL_5074cacad85d4e13bb9005a53e0a3eca",
            "max": 7,
            "min": 0,
            "orientation": "horizontal",
            "style": "IPY_MODEL_acf3733e330d4f368a60545b8f41ff41",
            "value": 7
          }
        },
        "a24d884a8f6444feb775f3df84d6518b": {
          "model_module": "@jupyter-widgets/controls",
          "model_module_version": "1.5.0",
          "model_name": "DescriptionStyleModel",
          "state": {
            "_model_module": "@jupyter-widgets/controls",
            "_model_module_version": "1.5.0",
            "_model_name": "DescriptionStyleModel",
            "_view_count": null,
            "_view_module": "@jupyter-widgets/base",
            "_view_module_version": "1.2.0",
            "_view_name": "StyleView",
            "description_width": ""
          }
        },
        "acf3733e330d4f368a60545b8f41ff41": {
          "model_module": "@jupyter-widgets/controls",
          "model_module_version": "1.5.0",
          "model_name": "ProgressStyleModel",
          "state": {
            "_model_module": "@jupyter-widgets/controls",
            "_model_module_version": "1.5.0",
            "_model_name": "ProgressStyleModel",
            "_view_count": null,
            "_view_module": "@jupyter-widgets/base",
            "_view_module_version": "1.2.0",
            "_view_name": "StyleView",
            "bar_color": null,
            "description_width": ""
          }
        },
        "c68596f277d742479345f2141be2e331": {
          "model_module": "@jupyter-widgets/controls",
          "model_module_version": "1.5.0",
          "model_name": "HTMLModel",
          "state": {
            "_dom_classes": [],
            "_model_module": "@jupyter-widgets/controls",
            "_model_module_version": "1.5.0",
            "_model_name": "HTMLModel",
            "_view_count": null,
            "_view_module": "@jupyter-widgets/controls",
            "_view_module_version": "1.5.0",
            "_view_name": "HTMLView",
            "description": "",
            "description_tooltip": null,
            "layout": "IPY_MODEL_d7343aed98994036aea01d91676092a3",
            "placeholder": "​",
            "style": "IPY_MODEL_6988c4d7030244fc9315b96b9bba851d",
            "value": " 50/50 [00:43&lt;00:00,  1.17it/s]"
          }
        },
        "d7343aed98994036aea01d91676092a3": {
          "model_module": "@jupyter-widgets/base",
          "model_module_version": "1.2.0",
          "model_name": "LayoutModel",
          "state": {
            "_model_module": "@jupyter-widgets/base",
            "_model_module_version": "1.2.0",
            "_model_name": "LayoutModel",
            "_view_count": null,
            "_view_module": "@jupyter-widgets/base",
            "_view_module_version": "1.2.0",
            "_view_name": "LayoutView",
            "align_content": null,
            "align_items": null,
            "align_self": null,
            "border": null,
            "bottom": null,
            "display": null,
            "flex": null,
            "flex_flow": null,
            "grid_area": null,
            "grid_auto_columns": null,
            "grid_auto_flow": null,
            "grid_auto_rows": null,
            "grid_column": null,
            "grid_gap": null,
            "grid_row": null,
            "grid_template_areas": null,
            "grid_template_columns": null,
            "grid_template_rows": null,
            "height": null,
            "justify_content": null,
            "justify_items": null,
            "left": null,
            "margin": null,
            "max_height": null,
            "max_width": null,
            "min_height": null,
            "min_width": null,
            "object_fit": null,
            "object_position": null,
            "order": null,
            "overflow": null,
            "overflow_x": null,
            "overflow_y": null,
            "padding": null,
            "right": null,
            "top": null,
            "visibility": null,
            "width": null
          }
        },
        "dd79ace4df0f46159de1c28154183f1c": {
          "model_module": "@jupyter-widgets/controls",
          "model_module_version": "1.5.0",
          "model_name": "FloatProgressModel",
          "state": {
            "_dom_classes": [],
            "_model_module": "@jupyter-widgets/controls",
            "_model_module_version": "1.5.0",
            "_model_name": "FloatProgressModel",
            "_view_count": null,
            "_view_module": "@jupyter-widgets/controls",
            "_view_module_version": "1.5.0",
            "_view_name": "ProgressView",
            "bar_style": "success",
            "description": "",
            "description_tooltip": null,
            "layout": "IPY_MODEL_1dd237e18d184326a98f3c254c248601",
            "max": 50,
            "min": 0,
            "orientation": "horizontal",
            "style": "IPY_MODEL_ffc37064a7194f258a1cae549cedb23d",
            "value": 50
          }
        },
        "ec878c2ef2e444a2a69cbb3972e12c60": {
          "model_module": "@jupyter-widgets/base",
          "model_module_version": "1.2.0",
          "model_name": "LayoutModel",
          "state": {
            "_model_module": "@jupyter-widgets/base",
            "_model_module_version": "1.2.0",
            "_model_name": "LayoutModel",
            "_view_count": null,
            "_view_module": "@jupyter-widgets/base",
            "_view_module_version": "1.2.0",
            "_view_name": "LayoutView",
            "align_content": null,
            "align_items": null,
            "align_self": null,
            "border": null,
            "bottom": null,
            "display": null,
            "flex": null,
            "flex_flow": null,
            "grid_area": null,
            "grid_auto_columns": null,
            "grid_auto_flow": null,
            "grid_auto_rows": null,
            "grid_column": null,
            "grid_gap": null,
            "grid_row": null,
            "grid_template_areas": null,
            "grid_template_columns": null,
            "grid_template_rows": null,
            "height": null,
            "justify_content": null,
            "justify_items": null,
            "left": null,
            "margin": null,
            "max_height": null,
            "max_width": null,
            "min_height": null,
            "min_width": null,
            "object_fit": null,
            "object_position": null,
            "order": null,
            "overflow": null,
            "overflow_x": null,
            "overflow_y": null,
            "padding": null,
            "right": null,
            "top": null,
            "visibility": null,
            "width": null
          }
        },
        "f3c9a5a76f6643c9a4a387bcb231e463": {
          "model_module": "@jupyter-widgets/base",
          "model_module_version": "1.2.0",
          "model_name": "LayoutModel",
          "state": {
            "_model_module": "@jupyter-widgets/base",
            "_model_module_version": "1.2.0",
            "_model_name": "LayoutModel",
            "_view_count": null,
            "_view_module": "@jupyter-widgets/base",
            "_view_module_version": "1.2.0",
            "_view_name": "LayoutView",
            "align_content": null,
            "align_items": null,
            "align_self": null,
            "border": null,
            "bottom": null,
            "display": null,
            "flex": null,
            "flex_flow": null,
            "grid_area": null,
            "grid_auto_columns": null,
            "grid_auto_flow": null,
            "grid_auto_rows": null,
            "grid_column": null,
            "grid_gap": null,
            "grid_row": null,
            "grid_template_areas": null,
            "grid_template_columns": null,
            "grid_template_rows": null,
            "height": null,
            "justify_content": null,
            "justify_items": null,
            "left": null,
            "margin": null,
            "max_height": null,
            "max_width": null,
            "min_height": null,
            "min_width": null,
            "object_fit": null,
            "object_position": null,
            "order": null,
            "overflow": null,
            "overflow_x": null,
            "overflow_y": null,
            "padding": null,
            "right": null,
            "top": null,
            "visibility": null,
            "width": null
          }
        },
        "fa2e16af05b8458aa9ac6eeb8e0a8428": {
          "model_module": "@jupyter-widgets/base",
          "model_module_version": "1.2.0",
          "model_name": "LayoutModel",
          "state": {
            "_model_module": "@jupyter-widgets/base",
            "_model_module_version": "1.2.0",
            "_model_name": "LayoutModel",
            "_view_count": null,
            "_view_module": "@jupyter-widgets/base",
            "_view_module_version": "1.2.0",
            "_view_name": "LayoutView",
            "align_content": null,
            "align_items": null,
            "align_self": null,
            "border": null,
            "bottom": null,
            "display": null,
            "flex": null,
            "flex_flow": null,
            "grid_area": null,
            "grid_auto_columns": null,
            "grid_auto_flow": null,
            "grid_auto_rows": null,
            "grid_column": null,
            "grid_gap": null,
            "grid_row": null,
            "grid_template_areas": null,
            "grid_template_columns": null,
            "grid_template_rows": null,
            "height": null,
            "justify_content": null,
            "justify_items": null,
            "left": null,
            "margin": null,
            "max_height": null,
            "max_width": null,
            "min_height": null,
            "min_width": null,
            "object_fit": null,
            "object_position": null,
            "order": null,
            "overflow": null,
            "overflow_x": null,
            "overflow_y": null,
            "padding": null,
            "right": null,
            "top": null,
            "visibility": null,
            "width": null
          }
        },
        "ffc37064a7194f258a1cae549cedb23d": {
          "model_module": "@jupyter-widgets/controls",
          "model_module_version": "1.5.0",
          "model_name": "ProgressStyleModel",
          "state": {
            "_model_module": "@jupyter-widgets/controls",
            "_model_module_version": "1.5.0",
            "_model_name": "ProgressStyleModel",
            "_view_count": null,
            "_view_module": "@jupyter-widgets/base",
            "_view_module_version": "1.2.0",
            "_view_name": "StyleView",
            "bar_color": null,
            "description_width": ""
          }
        }
      }
    }
  },
  "nbformat": 4,
  "nbformat_minor": 0
}
